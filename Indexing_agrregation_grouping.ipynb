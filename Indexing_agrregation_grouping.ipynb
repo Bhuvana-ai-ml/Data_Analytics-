{
 "cells": [
  {
   "cell_type": "code",
   "execution_count": 1,
   "id": "6d984b17",
   "metadata": {},
   "outputs": [
    {
     "data": {
      "text/html": [
       "<div>\n",
       "<style scoped>\n",
       "    .dataframe tbody tr th:only-of-type {\n",
       "        vertical-align: middle;\n",
       "    }\n",
       "\n",
       "    .dataframe tbody tr th {\n",
       "        vertical-align: top;\n",
       "    }\n",
       "\n",
       "    .dataframe thead th {\n",
       "        text-align: right;\n",
       "    }\n",
       "</style>\n",
       "<table border=\"1\" class=\"dataframe\">\n",
       "  <thead>\n",
       "    <tr style=\"text-align: right;\">\n",
       "      <th></th>\n",
       "      <th>Name</th>\n",
       "      <th>Method</th>\n",
       "      <th>Performance</th>\n",
       "    </tr>\n",
       "  </thead>\n",
       "  <tbody>\n",
       "    <tr>\n",
       "      <th>0</th>\n",
       "      <td>Jiraya</td>\n",
       "      <td>Traditional</td>\n",
       "      <td>Pass</td>\n",
       "    </tr>\n",
       "    <tr>\n",
       "      <th>1</th>\n",
       "      <td>Hatake</td>\n",
       "      <td>Modern</td>\n",
       "      <td>Pass</td>\n",
       "    </tr>\n",
       "    <tr>\n",
       "      <th>2</th>\n",
       "      <td>Eren</td>\n",
       "      <td>Traditional</td>\n",
       "      <td>Fail</td>\n",
       "    </tr>\n",
       "    <tr>\n",
       "      <th>3</th>\n",
       "      <td>Hinata</td>\n",
       "      <td>Modern</td>\n",
       "      <td>Fail</td>\n",
       "    </tr>\n",
       "  </tbody>\n",
       "</table>\n",
       "</div>"
      ],
      "text/plain": [
       "     Name       Method Performance\n",
       "0  Jiraya  Traditional        Pass\n",
       "1  Hatake       Modern        Pass\n",
       "2    Eren  Traditional        Fail\n",
       "3  Hinata       Modern        Fail"
      ]
     },
     "execution_count": 1,
     "metadata": {},
     "output_type": "execute_result"
    }
   ],
   "source": [
    "import pandas as pd\n",
    "data = { \n",
    "    'Name': ['Jiraya','Hatake','Eren','Hinata'],\n",
    "    'Method':['Traditional','Modern','Traditional','Modern'],\n",
    "    'Performance':['Pass','Pass','Fail','Fail']\n",
    "}\n",
    "df = pd.DataFrame(data)\n",
    "df"
   ]
  },
  {
   "cell_type": "markdown",
   "id": "f3c0f4fa",
   "metadata": {},
   "source": [
    "#### loc[] -> Label-based Indexing\n",
    "use rows/column names(labels)\n",
    "can be used with conditions"
   ]
  },
  {
   "cell_type": "code",
   "execution_count": 17,
   "id": "c1bc5d96",
   "metadata": {},
   "outputs": [
    {
     "name": "stdout",
     "output_type": "stream",
     "text": [
      "     Name  Method Performance\n",
      "1  Hatake  Modern        Pass\n",
      "3  Hinata  Modern        Fail\n",
      "Passed students names:\n",
      "0    Jiraya\n",
      "1    Hatake\n",
      "Name: Name, dtype: object\n",
      "        Method Performance\n",
      "2  Traditional        Fail\n",
      "printing only method column:\n",
      "0    Traditional\n",
      "1         Modern\n",
      "2    Traditional\n",
      "3         Modern\n",
      "Name: Method, dtype: object\n",
      "0    Jiraya\n",
      "1    Hatake\n",
      "2      Eren\n",
      "Name: Name, dtype: object\n"
     ]
    }
   ],
   "source": [
    "modern_students = df.loc[df['Method'] == 'Modern']\n",
    "passed_names = df.loc[df['Performance'] == 'Pass','Name']\n",
    "print(modern_students)\n",
    "print(\"Passed students names:\")\n",
    "print(passed_names)\n",
    "Eren_info = df.loc[df['Name'] == 'Eren',['Method', 'Performance']]\n",
    "print(Eren_info)\n",
    "print(\"printing only method column:\")\n",
    "# : select all rows and only method column\n",
    "methods = df.loc[:,'Method']\n",
    "print(methods)\n",
    "test = df.loc[0:2, 'Name']\n",
    "print(test)"
   ]
  },
  {
   "cell_type": "markdown",
   "id": "2955f19b",
   "metadata": {},
   "source": [
    "##.loc[] -> Integer Position-Based Indexing\n",
    "-Use rows/column numbers\n",
    "-traditional matrix access\n",
    "-faster for slicing by position"
   ]
  },
  {
   "cell_type": "code",
   "execution_count": 22,
   "id": "ec8be6e0",
   "metadata": {},
   "outputs": [
    {
     "name": "stdout",
     "output_type": "stream",
     "text": [
      "     Name       Method Performance\n",
      "0  Jiraya  Traditional        Pass\n",
      "1  Hatake       Modern        Pass\n",
      "0    Traditional\n",
      "1         Modern\n",
      "2    Traditional\n",
      "3         Modern\n",
      "Name: Method, dtype: object\n",
      "Eren\n",
      "     Name  Method Performance\n",
      "1  Hatake  Modern        Pass\n"
     ]
    }
   ],
   "source": [
    "subset1 = df.iloc[0:2, :]#first two rows and all columns\n",
    "print(subset1)\n",
    "methods_only = df.iloc[:, 1]\n",
    "print(methods_only)\n",
    "student_name = df.iloc[2, 0]\n",
    "print(student_name)\n",
    "modern_passed = df.loc[(df['Method'] == 'Modern') & (df['Performance'] == 'Pass')]\n",
    "print(modern_passed)"
   ]
  },
  {
   "cell_type": "code",
   "execution_count": 24,
   "id": "5626469f",
   "metadata": {},
   "outputs": [
    {
     "data": {
      "text/html": [
       "<div>\n",
       "<style scoped>\n",
       "    .dataframe tbody tr th:only-of-type {\n",
       "        vertical-align: middle;\n",
       "    }\n",
       "\n",
       "    .dataframe tbody tr th {\n",
       "        vertical-align: top;\n",
       "    }\n",
       "\n",
       "    .dataframe thead th {\n",
       "        text-align: right;\n",
       "    }\n",
       "</style>\n",
       "<table border=\"1\" class=\"dataframe\">\n",
       "  <thead>\n",
       "    <tr style=\"text-align: right;\">\n",
       "      <th></th>\n",
       "      <th>Name</th>\n",
       "      <th>Method</th>\n",
       "      <th>Performance</th>\n",
       "    </tr>\n",
       "  </thead>\n",
       "  <tbody>\n",
       "    <tr>\n",
       "      <th>0</th>\n",
       "      <td>Amit</td>\n",
       "      <td>Traditional</td>\n",
       "      <td>Pass</td>\n",
       "    </tr>\n",
       "    <tr>\n",
       "      <th>1</th>\n",
       "      <td>Bhuvana</td>\n",
       "      <td>Modern</td>\n",
       "      <td>Pass</td>\n",
       "    </tr>\n",
       "    <tr>\n",
       "      <th>2</th>\n",
       "      <td>Chitra</td>\n",
       "      <td>Modern</td>\n",
       "      <td>Fail</td>\n",
       "    </tr>\n",
       "    <tr>\n",
       "      <th>3</th>\n",
       "      <td>David</td>\n",
       "      <td>Traditional</td>\n",
       "      <td>Fail</td>\n",
       "    </tr>\n",
       "    <tr>\n",
       "      <th>4</th>\n",
       "      <td>Esha</td>\n",
       "      <td>Modern</td>\n",
       "      <td>Pass</td>\n",
       "    </tr>\n",
       "    <tr>\n",
       "      <th>5</th>\n",
       "      <td>Farhan</td>\n",
       "      <td>Traditional</td>\n",
       "      <td>Fail</td>\n",
       "    </tr>\n",
       "  </tbody>\n",
       "</table>\n",
       "</div>"
      ],
      "text/plain": [
       "      Name       Method Performance\n",
       "0     Amit  Traditional        Pass\n",
       "1  Bhuvana       Modern        Pass\n",
       "2   Chitra       Modern        Fail\n",
       "3    David  Traditional        Fail\n",
       "4     Esha       Modern        Pass\n",
       "5   Farhan  Traditional        Fail"
      ]
     },
     "execution_count": 24,
     "metadata": {},
     "output_type": "execute_result"
    }
   ],
   "source": [
    "data = {\n",
    "    'Name': ['Amit', 'Bhuvana', 'Chitra', 'David', 'Esha', 'Farhan'],\n",
    "    'Method': ['Traditional', 'Modern', 'Modern', 'Traditional', 'Modern', 'Traditional'],\n",
    "    'Performance': ['Pass', 'Pass', 'Fail', 'Fail', 'Pass', 'Fail']\n",
    "}\n",
    "\n",
    "df = pd.DataFrame(data)\n",
    "df"
   ]
  },
  {
   "cell_type": "code",
   "execution_count": null,
   "id": "f759a193",
   "metadata": {},
   "outputs": [
    {
     "name": "stdout",
     "output_type": "stream",
     "text": [
      "Method\n",
      "Modern         3\n",
      "Traditional    3\n",
      "dtype: int64\n",
      "Method       Performance\n",
      "Modern       Fail           1\n",
      "             Pass           2\n",
      "Traditional  Fail           2\n",
      "             Pass           1\n",
      "dtype: int64\n"
     ]
    },
    {
     "ename": "TypeError",
     "evalue": "'method' object is not subscriptable",
     "output_type": "error",
     "traceback": [
      "\u001b[31m---------------------------------------------------------------------------\u001b[39m",
      "\u001b[31mTypeError\u001b[39m                                 Traceback (most recent call last)",
      "\u001b[36mCell\u001b[39m\u001b[36m \u001b[39m\u001b[32mIn[28]\u001b[39m\u001b[32m, line 5\u001b[39m\n\u001b[32m      3\u001b[39m group_perf = df.groupby([\u001b[33m'\u001b[39m\u001b[33mMethod\u001b[39m\u001b[33m'\u001b[39m, \u001b[33m'\u001b[39m\u001b[33mPerformance\u001b[39m\u001b[33m'\u001b[39m]).size()\n\u001b[32m      4\u001b[39m \u001b[38;5;28mprint\u001b[39m(group_perf)\n\u001b[32m----> \u001b[39m\u001b[32m5\u001b[39m perf_pass = \u001b[43mdf\u001b[49m\u001b[43m.\u001b[49m\u001b[43mgroupby\u001b[49m\u001b[43m[\u001b[49m\u001b[43m[\u001b[49m\u001b[33;43m'\u001b[39;49m\u001b[33;43mMethod\u001b[39;49m\u001b[33;43m'\u001b[39;49m\u001b[43m]\u001b[49m\u001b[43m,\u001b[49m\u001b[43m[\u001b[49m\u001b[33;43m'\u001b[39;49m\u001b[33;43mPerformance\u001b[39;49m\u001b[33;43m'\u001b[39;49m\u001b[43m \u001b[49m\u001b[43m==\u001b[49m\u001b[43m \u001b[49m\u001b[33;43m'\u001b[39;49m\u001b[33;43mPass\u001b[39;49m\u001b[33;43m'\u001b[39;49m\u001b[43m]\u001b[49m\u001b[43m]\u001b[49m\n\u001b[32m      6\u001b[39m \u001b[38;5;28mprint\u001b[39m(perf_pass)\n",
      "\u001b[31mTypeError\u001b[39m: 'method' object is not subscriptable"
     ]
    }
   ],
   "source": [
    "methods_count = df.groupby('Method').size()\n",
    "print(methods_count)\n",
    "group_perf = df.groupby(['Method', 'Performance']).size()\n",
    "print(group_perf)\n"
   ]
  },
  {
   "cell_type": "code",
   "execution_count": 30,
   "id": "483ba8da",
   "metadata": {},
   "outputs": [
    {
     "name": "stdout",
     "output_type": "stream",
     "text": [
      "Method\n",
      "Modern         2\n",
      "Traditional    1\n",
      "dtype: int64\n"
     ]
    }
   ],
   "source": [
    "passed_df = df[df['Performance'] == 'Pass']\n",
    "perf_pass = passed_df.groupby('Method').size()\n",
    "print(perf_pass)"
   ]
  },
  {
   "cell_type": "code",
   "execution_count": 31,
   "id": "be188850",
   "metadata": {},
   "outputs": [
    {
     "name": "stdout",
     "output_type": "stream",
     "text": [
      "Method\n",
      "Modern         79.333333\n",
      "Traditional    60.000000\n",
      "Name: Score, dtype: float64\n"
     ]
    }
   ],
   "source": [
    "df['Score'] = [85, 90, 60, 50, 88, 45]  # Adding a score column\n",
    "\n",
    "# Average score by method\n",
    "avg_scores = df.groupby('Method')['Score'].mean()\n",
    "print(avg_scores)\n"
   ]
  },
  {
   "cell_type": "code",
   "execution_count": 35,
   "id": "e5b6925c",
   "metadata": {},
   "outputs": [
    {
     "name": "stdout",
     "output_type": "stream",
     "text": [
      "                  mean  min  max  count\n",
      "Method                                 \n",
      "Modern       79.333333   60   90      3\n",
      "Traditional  60.000000   45   85      3\n"
     ]
    }
   ],
   "source": [
    "agg_scores= df.groupby('Method')['Score'].agg(['mean','min','max','count'])\n",
    "print(agg_scores)"
   ]
  },
  {
   "cell_type": "code",
   "execution_count": null,
   "id": "62552178",
   "metadata": {},
   "outputs": [],
   "source": []
  }
 ],
 "metadata": {
  "kernelspec": {
   "display_name": "Python 3",
   "language": "python",
   "name": "python3"
  },
  "language_info": {
   "codemirror_mode": {
    "name": "ipython",
    "version": 3
   },
   "file_extension": ".py",
   "mimetype": "text/x-python",
   "name": "python",
   "nbconvert_exporter": "python",
   "pygments_lexer": "ipython3",
   "version": "3.13.1"
  }
 },
 "nbformat": 4,
 "nbformat_minor": 5
}
